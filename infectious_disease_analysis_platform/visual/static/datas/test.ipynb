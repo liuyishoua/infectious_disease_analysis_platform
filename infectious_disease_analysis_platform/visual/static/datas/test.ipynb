{
 "cells": [
  {
   "cell_type": "code",
   "execution_count": 1,
   "metadata": {},
   "outputs": [],
   "source": [
    "import json\n",
    "  \n",
    "# Opening JSON file\n",
    "f = open('plot.json')\n",
    "  \n",
    "# returns JSON object as \n",
    "# a dictionary\n",
    "data = json.load(f)"
   ]
  },
  {
   "cell_type": "code",
   "execution_count": 20,
   "metadata": {},
   "outputs": [],
   "source": [
    "import numpy as np\n",
    "for key in data.keys():\n",
    "    # 格式规范化\n",
    "    for element in data[key]:\n",
    "        year,month,day = element[0].split('/')\n",
    "        element[0] = str(int(year)) + \"/\" + str(int(month)) + \"/\" + str(int(day))"
   ]
  },
  {
   "cell_type": "code",
   "execution_count": 36,
   "metadata": {},
   "outputs": [],
   "source": [
    "import json\n",
    "\n",
    "file_path = 'graph_covid_1492.json'\n",
    "out_path = './graph_json/graph_covid_1492.json'\n",
    "# Opening JSON file\n",
    "node_list = []\n",
    "edge_list = []\n",
    "result = {}\n",
    "for line in open(file_path,'rb'):\n",
    "    temp = json.loads(line)\n",
    "    if temp['type'] == 'node':\n",
    "        node_list.append(temp)\n",
    "    else:\n",
    "        edge_list.append(temp)\n",
    "result['nodes'] = node_list\n",
    "result['edges'] = edge_list\n",
    "\n",
    "with open(out_path,\"w\") as f:\n",
    "    json.dump(result,f)"
   ]
  },
  {
   "cell_type": "markdown",
   "metadata": {},
   "source": [
    "改变 json 格式，使其适配 G6 图渲染的格式要求\n",
    "\n",
    "原始 json 信息均添加，为了适配 G6，仅仅实现数据重组"
   ]
  },
  {
   "cell_type": "code",
   "execution_count": 44,
   "metadata": {},
   "outputs": [],
   "source": [
    "import json\n",
    "\n",
    "file_path = './graph_covid_1492.json'\n",
    "out_path = './g6_json/graph_covid_1492.json'\n",
    "# Opening JSON file\n",
    "node_list = []\n",
    "edge_list = []\n",
    "result = {}\n",
    "for line in open(file_path,'rb'):\n",
    "    temp = json.loads(line)\n",
    "    G6_format = dict()\n",
    "    if temp['type'] == 'node':\n",
    "        G6_format['id'] = temp['id']\n",
    "        G6_format['type'] = temp['type']\n",
    "        G6_format['labels'] = temp['labels']\n",
    "        G6_format['properties'] = temp['properties']\n",
    "        G6_format['name'] = temp['properties']['name']\n",
    "        node_list.append(G6_format)\n",
    "    else:\n",
    "        G6_format['id'] = temp['id']\n",
    "        G6_format['type'] = temp['type']\n",
    "        G6_format['source'] = temp['start']['id']\n",
    "        G6_format['target'] = temp['end']['id']\n",
    "        G6_format['label'] = temp['label']\n",
    "        G6_format['source_label'] = temp['start']['labels']\n",
    "        G6_format['target_label'] = temp['end']['labels']\n",
    "        edge_list.append(G6_format)\n",
    "\n",
    "result['nodes'] = node_list\n",
    "result['edges'] = edge_list\n",
    "with open(out_path,\"w\") as f:\n",
    "    json.dump(result,f)\n"
   ]
  },
  {
   "cell_type": "code",
   "execution_count": null,
   "metadata": {},
   "outputs": [],
   "source": []
  }
 ],
 "metadata": {
  "kernelspec": {
   "display_name": "Python 3.7.13 ('prophet')",
   "language": "python",
   "name": "python3"
  },
  "language_info": {
   "codemirror_mode": {
    "name": "ipython",
    "version": 3
   },
   "file_extension": ".py",
   "mimetype": "text/x-python",
   "name": "python",
   "nbconvert_exporter": "python",
   "pygments_lexer": "ipython3",
   "version": "3.7.13"
  },
  "orig_nbformat": 4,
  "vscode": {
   "interpreter": {
    "hash": "f37e6ed473160d6feeab93fee608e10966c3af6445d9cb2b4b75715d88fe263c"
   }
  }
 },
 "nbformat": 4,
 "nbformat_minor": 2
}
