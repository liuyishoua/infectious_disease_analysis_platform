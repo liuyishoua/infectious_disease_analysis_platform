{
 "cells": [
  {
   "cell_type": "code",
   "execution_count": 3,
   "metadata": {},
   "outputs": [
    {
     "name": "stderr",
     "output_type": "stream",
     "text": [
      "d:\\Anaconda\\envs\\prophet\\lib\\site-packages\\tqdm\\auto.py:22: TqdmWarning: IProgress not found. Please update jupyter and ipywidgets. See https://ipywidgets.readthedocs.io/en/stable/user_install.html\n",
      "  from .autonotebook import tqdm as notebook_tqdm\n"
     ]
    }
   ],
   "source": [
    "# encoding:utf-8\n",
    "import numpy as np\n",
    "import pandas as pd\n",
    "import pandas as pd\n",
    "# import matplotlib.pyplot as plt\n",
    "from fbprophet import Prophet\n",
    "import pystan"
   ]
  },
  {
   "cell_type": "markdown",
   "metadata": {},
   "source": [
    "处理步骤：\n",
    "\n",
    "1. 新增确诊以及死亡数据作为元数据\n",
    "\n",
    "2. 预测新增确诊与死亡\n",
    "\n",
    "3. 将预测结果与原始数据相连接\n",
    "\n",
    "4. 生成累计确诊与死亡数据\n",
    "\n",
    "5. 处理成js读取的json格式"
   ]
  },
  {
   "cell_type": "markdown",
   "metadata": {},
   "source": [
    "1. 新增确诊以及死亡数据作为元数据"
   ]
  },
  {
   "cell_type": "markdown",
   "metadata": {},
   "source": [
    "2. 预测未来新增与死亡"
   ]
  },
  {
   "cell_type": "code",
   "execution_count": 34,
   "metadata": {},
   "outputs": [],
   "source": [
    "from predict import predict\n",
    "\n",
    "### 数据导入\n",
    "# input_data = pd.read_csv(input_path)\n",
    "# pdata.to_csv(save_path,index=False)\n",
    "def pd_read_csv(path):\n",
    "    \"\"\"读取文件\n",
    "    \"\"\"\n",
    "    data = pd.read_csv(path)\n",
    "    return data\n",
    "\n",
    "def generate_future(d_confirm,d_death,pred_day=90):\n",
    "    \"\"\"时间: 30min, 生成预测数据，并保存到相应文件夹\n",
    "    :params d_confirm d_death 新增确诊与死亡数据\n",
    "    :return p_confirm p_death 预测死亡与确诊\n",
    "    \"\"\"\n",
    "    p_confirm = predict(d_confirm,pred_day)\n",
    "    p_confirm.to_csv(\"./data/predict_confirm.csv\",index=False)\n",
    "\n",
    "    p_death = predict(d_death,pred_day)\n",
    "    p_death.to_csv(\"./data/predict_death.csv\",index=False)\n",
    "    return p_confirm,p_death\n",
    "\n",
    "# 3. 将预测结果与原始数据相连接\n",
    "def concat_predict(d_confirm,d_death,p_confirm,p_death):\n",
    "    \"\"\"将预测数据与原始数据连接一起\n",
    "    :params 输入新增与预测的（确诊与死亡）\n",
    "    :return 连接后的新增与死亡\n",
    "    \"\"\"\n",
    "    # load the prediction\n",
    "    p_confirm = pd.read_csv('./data/predict_confirm.csv')\n",
    "    p_death = pd.read_csv('./data/predict_death.csv')\n",
    "\n",
    "    # change datetime format\n",
    "    p_confirm['Date'] = pd.to_datetime(p_confirm['Date']).dt.strftime('%Y/%m/%d')\n",
    "    p_death['Date'] = pd.to_datetime(p_death['Date']).dt.strftime('%Y/%m/%d')\n",
    "\n",
    "    # get the result\n",
    "    a_confirm = pd.concat([d_confirm, p_confirm],axis=0).reset_index(drop=True)\n",
    "    a_death = pd.concat([d_death, p_death],axis=0).reset_index(drop=True)\n",
    "\n",
    "    return a_confirm, a_death\n",
    "\n",
    "# 4. 生成累计确诊与死亡数据\n",
    "def generate_cumulative(daily_pd):\n",
    "    \"\"\"\n",
    "    :params daily_pd\n",
    "    :return cumulative_pd\n",
    "    \"\"\"\n",
    "    cum_pd = pd.DataFrame()\n",
    "    without_date = daily_pd.columns[daily_pd.columns!='Date']\n",
    "    cum_pd['Date'] = daily_pd['Date']\n",
    "    for column in without_date:\n",
    "        cum_pd[column] = daily_pd[column].cumsum()\n",
    "    return cum_pd\n",
    "\n",
    "# 5. 处理成js读取的json格式\n",
    "def generate_json(a_confirm,a_death,save_path = 'plot.json'):\n",
    "    \"\"\"a_confirm,a_death,save_path = 'plot.json'\n",
    "    :params a_confirm a_death 新增确诊与死亡（包括预测部分）\n",
    "    :params save_path 最终json文件的保存位置 \n",
    "    :return None\n",
    "    \"\"\"\n",
    "    # 生成累计数据\n",
    "    c_confirm = generate_cumulative(a_confirm)\n",
    "    c_death = generate_cumulative(a_death)\n",
    "\n",
    "    result = dict()\n",
    "    without_date = a_confirm.columns[a_confirm.columns!='Date']\n",
    "    for column in without_date:\n",
    "        temp = pd.DataFrame()\n",
    "        temp['Date'] = a_confirm['Date']\n",
    "        temp[column+'1'] = a_confirm[column]\n",
    "        temp[column+'2'] = c_confirm[column]\n",
    "        temp[column+'3'] = a_death[column]\n",
    "        temp[column+'4'] = c_death[column]\n",
    "        temp = temp.values.tolist()\n",
    "        result[column] = temp\n",
    "    import json\n",
    "    with open(save_path,\"w\") as f:\n",
    "        json.dump(result,f)"
   ]
  },
  {
   "cell_type": "code",
   "execution_count": 1,
   "metadata": {},
   "outputs": [
    {
     "name": "stderr",
     "output_type": "stream",
     "text": [
      "d:\\Anaconda\\envs\\prophet\\lib\\site-packages\\tqdm\\auto.py:22: TqdmWarning: IProgress not found. Please update jupyter and ipywidgets. See https://ipywidgets.readthedocs.io/en/stable/user_install.html\n",
      "  from .autonotebook import tqdm as notebook_tqdm\n"
     ]
    },
    {
     "name": "stdout",
     "output_type": "stream",
     "text": [
      "Beginning predict: --------------------------------\n"
     ]
    },
    {
     "name": "stderr",
     "output_type": "stream",
     "text": [
      "  0%|          | 0/34 [00:00<?, ?it/s]e:\\django\\infectious_disease_analysis_platform\\visual\\core_function\\predict.py:60: SettingWithCopyWarning: \n",
      "A value is trying to be set on a copy of a slice from a DataFrame\n",
      "\n",
      "See the caveats in the documentation: https://pandas.pydata.org/pandas-docs/stable/user_guide/indexing.html#returning-a-view-versus-a-copy\n",
      "  test['yhat'][test['yhat']<0] = 0 #  负数改为0\n",
      "  3%|▎         | 1/34 [00:08<04:30,  8.20s/it]e:\\django\\infectious_disease_analysis_platform\\visual\\core_function\\predict.py:60: SettingWithCopyWarning: \n",
      "A value is trying to be set on a copy of a slice from a DataFrame\n",
      "\n",
      "See the caveats in the documentation: https://pandas.pydata.org/pandas-docs/stable/user_guide/indexing.html#returning-a-view-versus-a-copy\n",
      "  test['yhat'][test['yhat']<0] = 0 #  负数改为0\n",
      "  6%|▌         | 2/34 [00:15<03:56,  7.39s/it]e:\\django\\infectious_disease_analysis_platform\\visual\\core_function\\predict.py:60: SettingWithCopyWarning: \n",
      "A value is trying to be set on a copy of a slice from a DataFrame\n",
      "\n",
      "See the caveats in the documentation: https://pandas.pydata.org/pandas-docs/stable/user_guide/indexing.html#returning-a-view-versus-a-copy\n",
      "  test['yhat'][test['yhat']<0] = 0 #  负数改为0\n",
      "  9%|▉         | 3/34 [00:20<03:27,  6.68s/it]e:\\django\\infectious_disease_analysis_platform\\visual\\core_function\\predict.py:60: SettingWithCopyWarning: \n",
      "A value is trying to be set on a copy of a slice from a DataFrame\n",
      "\n",
      "See the caveats in the documentation: https://pandas.pydata.org/pandas-docs/stable/user_guide/indexing.html#returning-a-view-versus-a-copy\n",
      "  test['yhat'][test['yhat']<0] = 0 #  负数改为0\n",
      " 12%|█▏        | 4/34 [00:29<03:48,  7.62s/it]e:\\django\\infectious_disease_analysis_platform\\visual\\core_function\\predict.py:60: SettingWithCopyWarning: \n",
      "A value is trying to be set on a copy of a slice from a DataFrame\n",
      "\n",
      "See the caveats in the documentation: https://pandas.pydata.org/pandas-docs/stable/user_guide/indexing.html#returning-a-view-versus-a-copy\n",
      "  test['yhat'][test['yhat']<0] = 0 #  负数改为0\n",
      " 15%|█▍        | 5/34 [00:38<03:47,  7.83s/it]e:\\django\\infectious_disease_analysis_platform\\visual\\core_function\\predict.py:60: SettingWithCopyWarning: \n",
      "A value is trying to be set on a copy of a slice from a DataFrame\n",
      "\n",
      "See the caveats in the documentation: https://pandas.pydata.org/pandas-docs/stable/user_guide/indexing.html#returning-a-view-versus-a-copy\n",
      "  test['yhat'][test['yhat']<0] = 0 #  负数改为0\n",
      " 18%|█▊        | 6/34 [01:19<09:01, 19.34s/it]e:\\django\\infectious_disease_analysis_platform\\visual\\core_function\\predict.py:60: SettingWithCopyWarning: \n",
      "A value is trying to be set on a copy of a slice from a DataFrame\n",
      "\n",
      "See the caveats in the documentation: https://pandas.pydata.org/pandas-docs/stable/user_guide/indexing.html#returning-a-view-versus-a-copy\n",
      "  test['yhat'][test['yhat']<0] = 0 #  负数改为0\n",
      " 21%|██        | 7/34 [01:28<07:12, 16.00s/it]e:\\django\\infectious_disease_analysis_platform\\visual\\core_function\\predict.py:60: SettingWithCopyWarning: \n",
      "A value is trying to be set on a copy of a slice from a DataFrame\n",
      "\n",
      "See the caveats in the documentation: https://pandas.pydata.org/pandas-docs/stable/user_guide/indexing.html#returning-a-view-versus-a-copy\n",
      "  test['yhat'][test['yhat']<0] = 0 #  负数改为0\n",
      " 24%|██▎       | 8/34 [01:39<06:08, 14.17s/it]e:\\django\\infectious_disease_analysis_platform\\visual\\core_function\\predict.py:60: SettingWithCopyWarning: \n",
      "A value is trying to be set on a copy of a slice from a DataFrame\n",
      "\n",
      "See the caveats in the documentation: https://pandas.pydata.org/pandas-docs/stable/user_guide/indexing.html#returning-a-view-versus-a-copy\n",
      "  test['yhat'][test['yhat']<0] = 0 #  负数改为0\n",
      " 26%|██▋       | 9/34 [01:45<04:53, 11.76s/it]e:\\django\\infectious_disease_analysis_platform\\visual\\core_function\\predict.py:60: SettingWithCopyWarning: \n",
      "A value is trying to be set on a copy of a slice from a DataFrame\n",
      "\n",
      "See the caveats in the documentation: https://pandas.pydata.org/pandas-docs/stable/user_guide/indexing.html#returning-a-view-versus-a-copy\n",
      "  test['yhat'][test['yhat']<0] = 0 #  负数改为0\n",
      " 29%|██▉       | 10/34 [01:53<04:32, 11.37s/it]\n"
     ]
    },
    {
     "ename": "KeyboardInterrupt",
     "evalue": "",
     "output_type": "error",
     "traceback": [
      "\u001b[1;31m---------------------------------------------------------------------------\u001b[0m",
      "\u001b[1;31mKeyboardInterrupt\u001b[0m                         Traceback (most recent call last)",
      "\u001b[1;32m~\\AppData\\Local\\Temp\\ipykernel_7740\\509660953.py\u001b[0m in \u001b[0;36m<module>\u001b[1;34m\u001b[0m\n\u001b[0;32m      8\u001b[0m \u001b[1;32mfrom\u001b[0m \u001b[0mupdate\u001b[0m \u001b[1;32mimport\u001b[0m \u001b[0mUpdate\u001b[0m\u001b[1;33m\u001b[0m\u001b[1;33m\u001b[0m\u001b[0m\n\u001b[0;32m      9\u001b[0m \u001b[0mupdate\u001b[0m \u001b[1;33m=\u001b[0m \u001b[0mUpdate\u001b[0m\u001b[1;33m(\u001b[0m\u001b[1;33m)\u001b[0m\u001b[1;33m\u001b[0m\u001b[1;33m\u001b[0m\u001b[0m\n\u001b[1;32m---> 10\u001b[1;33m \u001b[0mupdate\u001b[0m\u001b[1;33m.\u001b[0m\u001b[0mupdate_json_without_predict\u001b[0m\u001b[1;33m(\u001b[0m\u001b[1;36m90\u001b[0m\u001b[1;33m)\u001b[0m\u001b[1;33m\u001b[0m\u001b[1;33m\u001b[0m\u001b[0m\n\u001b[0m",
      "\u001b[1;32me:\\django\\infectious_disease_analysis_platform\\visual\\core_function\\update.py\u001b[0m in \u001b[0;36mupdate_json_without_predict\u001b[1;34m(self, pred_day)\u001b[0m\n\u001b[0;32m    146\u001b[0m         \u001b[0md_confirm\u001b[0m \u001b[1;33m=\u001b[0m \u001b[0mself\u001b[0m\u001b[1;33m.\u001b[0m\u001b[0mpd_read_csv\u001b[0m\u001b[1;33m(\u001b[0m\u001b[0mself\u001b[0m\u001b[1;33m.\u001b[0m\u001b[0md_confirm_path\u001b[0m\u001b[1;33m)\u001b[0m\u001b[1;33m\u001b[0m\u001b[1;33m\u001b[0m\u001b[0m\n\u001b[0;32m    147\u001b[0m         \u001b[0md_death\u001b[0m \u001b[1;33m=\u001b[0m \u001b[0mself\u001b[0m\u001b[1;33m.\u001b[0m\u001b[0mpd_read_csv\u001b[0m\u001b[1;33m(\u001b[0m\u001b[0mself\u001b[0m\u001b[1;33m.\u001b[0m\u001b[0md_death_path\u001b[0m\u001b[1;33m)\u001b[0m\u001b[1;33m\u001b[0m\u001b[1;33m\u001b[0m\u001b[0m\n\u001b[1;32m--> 148\u001b[1;33m         \u001b[0mp_confirm\u001b[0m\u001b[1;33m,\u001b[0m\u001b[0mp_death\u001b[0m \u001b[1;33m=\u001b[0m \u001b[0mself\u001b[0m\u001b[1;33m.\u001b[0m\u001b[0mgenerate_future\u001b[0m\u001b[1;33m(\u001b[0m\u001b[0md_confirm\u001b[0m\u001b[1;33m,\u001b[0m\u001b[0md_death\u001b[0m\u001b[1;33m,\u001b[0m\u001b[0mpred_day\u001b[0m\u001b[1;33m)\u001b[0m\u001b[1;33m\u001b[0m\u001b[1;33m\u001b[0m\u001b[0m\n\u001b[0m\u001b[0;32m    149\u001b[0m \u001b[1;33m\u001b[0m\u001b[0m\n\u001b[0;32m    150\u001b[0m         \u001b[1;31m# 3. 将预测结果与原始数据相连接\u001b[0m\u001b[1;33m\u001b[0m\u001b[1;33m\u001b[0m\u001b[1;33m\u001b[0m\u001b[0m\n",
      "\u001b[1;32me:\\django\\infectious_disease_analysis_platform\\visual\\core_function\\update.py\u001b[0m in \u001b[0;36mgenerate_future\u001b[1;34m(self, d_confirm, d_death, pred_day)\u001b[0m\n\u001b[0;32m     41\u001b[0m         \u001b[0mprint\u001b[0m \u001b[1;33m(\u001b[0m\u001b[1;34m\"Beginning predict: --------------------------------\"\u001b[0m\u001b[1;33m)\u001b[0m\u001b[1;33m\u001b[0m\u001b[1;33m\u001b[0m\u001b[0m\n\u001b[0;32m     42\u001b[0m         \u001b[0mstart\u001b[0m \u001b[1;33m=\u001b[0m \u001b[0mtime\u001b[0m\u001b[1;33m.\u001b[0m\u001b[0mtime\u001b[0m\u001b[1;33m(\u001b[0m\u001b[1;33m)\u001b[0m\u001b[1;33m\u001b[0m\u001b[1;33m\u001b[0m\u001b[0m\n\u001b[1;32m---> 43\u001b[1;33m         \u001b[0mp_confirm\u001b[0m \u001b[1;33m=\u001b[0m \u001b[0mpredict\u001b[0m\u001b[1;33m(\u001b[0m\u001b[0md_confirm\u001b[0m\u001b[1;33m,\u001b[0m\u001b[0mpred_day\u001b[0m\u001b[1;33m)\u001b[0m\u001b[1;33m\u001b[0m\u001b[1;33m\u001b[0m\u001b[0m\n\u001b[0m\u001b[0;32m     44\u001b[0m         \u001b[1;31m# change datetime format\u001b[0m\u001b[1;33m\u001b[0m\u001b[1;33m\u001b[0m\u001b[1;33m\u001b[0m\u001b[0m\n\u001b[0;32m     45\u001b[0m         \u001b[0mp_confirm\u001b[0m\u001b[1;33m[\u001b[0m\u001b[1;34m'Date'\u001b[0m\u001b[1;33m]\u001b[0m \u001b[1;33m=\u001b[0m \u001b[0mp_confirm\u001b[0m\u001b[1;33m[\u001b[0m\u001b[1;34m'Date'\u001b[0m\u001b[1;33m]\u001b[0m\u001b[1;33m.\u001b[0m\u001b[0mapply\u001b[0m\u001b[1;33m(\u001b[0m\u001b[1;32mlambda\u001b[0m \u001b[0mdate\u001b[0m\u001b[1;33m:\u001b[0m \u001b[0mstr\u001b[0m\u001b[1;33m(\u001b[0m\u001b[0mdate\u001b[0m\u001b[1;33m.\u001b[0m\u001b[0myear\u001b[0m\u001b[1;33m)\u001b[0m \u001b[1;33m+\u001b[0m \u001b[1;34m'/'\u001b[0m \u001b[1;33m+\u001b[0m \u001b[0mstr\u001b[0m\u001b[1;33m(\u001b[0m\u001b[0mdate\u001b[0m\u001b[1;33m.\u001b[0m\u001b[0mmonth\u001b[0m\u001b[1;33m)\u001b[0m \u001b[1;33m+\u001b[0m \u001b[1;34m'/'\u001b[0m \u001b[1;33m+\u001b[0m \u001b[0mstr\u001b[0m\u001b[1;33m(\u001b[0m\u001b[0mdate\u001b[0m\u001b[1;33m.\u001b[0m\u001b[0mday\u001b[0m\u001b[1;33m)\u001b[0m\u001b[1;33m)\u001b[0m\u001b[1;33m\u001b[0m\u001b[1;33m\u001b[0m\u001b[0m\n",
      "\u001b[1;32me:\\django\\infectious_disease_analysis_platform\\visual\\core_function\\predict.py\u001b[0m in \u001b[0;36mpredict\u001b[1;34m(input_data, pred_len)\u001b[0m\n\u001b[0;32m     50\u001b[0m                     daily_seasonality = True)\n\u001b[0;32m     51\u001b[0m         \u001b[0mdf\u001b[0m\u001b[1;33m[\u001b[0m\u001b[1;34m'cap'\u001b[0m\u001b[1;33m]\u001b[0m \u001b[1;33m=\u001b[0m \u001b[0mround\u001b[0m\u001b[1;33m(\u001b[0m\u001b[0mmax\u001b[0m\u001b[1;33m(\u001b[0m\u001b[0mdf\u001b[0m\u001b[1;33m[\u001b[0m\u001b[1;34m'y'\u001b[0m\u001b[1;33m]\u001b[0m\u001b[1;33m)\u001b[0m\u001b[1;33m)\u001b[0m\u001b[1;33m+\u001b[0m\u001b[1;36m1\u001b[0m\u001b[1;33m\u001b[0m\u001b[1;33m\u001b[0m\u001b[0m\n\u001b[1;32m---> 52\u001b[1;33m         \u001b[0mm\u001b[0m\u001b[1;33m.\u001b[0m\u001b[0mfit\u001b[0m\u001b[1;33m(\u001b[0m\u001b[0mdf\u001b[0m\u001b[1;33m)\u001b[0m\u001b[1;33m\u001b[0m\u001b[1;33m\u001b[0m\u001b[0m\n\u001b[0m\u001b[0;32m     53\u001b[0m         \u001b[0mfuture\u001b[0m \u001b[1;33m=\u001b[0m \u001b[0mm\u001b[0m\u001b[1;33m.\u001b[0m\u001b[0mmake_future_dataframe\u001b[0m\u001b[1;33m(\u001b[0m\u001b[0mperiods\u001b[0m\u001b[1;33m=\u001b[0m\u001b[0mpred_len\u001b[0m\u001b[1;33m)\u001b[0m\u001b[1;33m\u001b[0m\u001b[1;33m\u001b[0m\u001b[0m\n\u001b[0;32m     54\u001b[0m         \u001b[0mfuture\u001b[0m\u001b[1;33m[\u001b[0m\u001b[1;34m'cap'\u001b[0m\u001b[1;33m]\u001b[0m \u001b[1;33m=\u001b[0m \u001b[0mround\u001b[0m\u001b[1;33m(\u001b[0m\u001b[0mmax\u001b[0m\u001b[1;33m(\u001b[0m\u001b[0mdf\u001b[0m\u001b[1;33m[\u001b[0m\u001b[1;34m'y'\u001b[0m\u001b[1;33m]\u001b[0m\u001b[1;33m)\u001b[0m\u001b[1;33m)\u001b[0m \u001b[1;33m+\u001b[0m \u001b[1;36m1\u001b[0m\u001b[1;33m\u001b[0m\u001b[1;33m\u001b[0m\u001b[0m\n",
      "\u001b[1;32md:\\Anaconda\\envs\\prophet\\lib\\site-packages\\fbprophet\\forecaster.py\u001b[0m in \u001b[0;36mfit\u001b[1;34m(self, df, **kwargs)\u001b[0m\n\u001b[0;32m   1164\u001b[0m             \u001b[0mself\u001b[0m\u001b[1;33m.\u001b[0m\u001b[0mparams\u001b[0m \u001b[1;33m=\u001b[0m \u001b[0mself\u001b[0m\u001b[1;33m.\u001b[0m\u001b[0mstan_backend\u001b[0m\u001b[1;33m.\u001b[0m\u001b[0msampling\u001b[0m\u001b[1;33m(\u001b[0m\u001b[0mstan_init\u001b[0m\u001b[1;33m,\u001b[0m \u001b[0mdat\u001b[0m\u001b[1;33m,\u001b[0m \u001b[0mself\u001b[0m\u001b[1;33m.\u001b[0m\u001b[0mmcmc_samples\u001b[0m\u001b[1;33m,\u001b[0m \u001b[1;33m**\u001b[0m\u001b[0mkwargs\u001b[0m\u001b[1;33m)\u001b[0m\u001b[1;33m\u001b[0m\u001b[1;33m\u001b[0m\u001b[0m\n\u001b[0;32m   1165\u001b[0m         \u001b[1;32melse\u001b[0m\u001b[1;33m:\u001b[0m\u001b[1;33m\u001b[0m\u001b[1;33m\u001b[0m\u001b[0m\n\u001b[1;32m-> 1166\u001b[1;33m             \u001b[0mself\u001b[0m\u001b[1;33m.\u001b[0m\u001b[0mparams\u001b[0m \u001b[1;33m=\u001b[0m \u001b[0mself\u001b[0m\u001b[1;33m.\u001b[0m\u001b[0mstan_backend\u001b[0m\u001b[1;33m.\u001b[0m\u001b[0mfit\u001b[0m\u001b[1;33m(\u001b[0m\u001b[0mstan_init\u001b[0m\u001b[1;33m,\u001b[0m \u001b[0mdat\u001b[0m\u001b[1;33m,\u001b[0m \u001b[1;33m**\u001b[0m\u001b[0mkwargs\u001b[0m\u001b[1;33m)\u001b[0m\u001b[1;33m\u001b[0m\u001b[1;33m\u001b[0m\u001b[0m\n\u001b[0m\u001b[0;32m   1167\u001b[0m \u001b[1;33m\u001b[0m\u001b[0m\n\u001b[0;32m   1168\u001b[0m         \u001b[1;31m# If no changepoints were requested, replace delta with 0s\u001b[0m\u001b[1;33m\u001b[0m\u001b[1;33m\u001b[0m\u001b[1;33m\u001b[0m\u001b[0m\n",
      "\u001b[1;32md:\\Anaconda\\envs\\prophet\\lib\\site-packages\\fbprophet\\models.py\u001b[0m in \u001b[0;36mfit\u001b[1;34m(self, stan_init, stan_data, **kwargs)\u001b[0m\n\u001b[0;32m    243\u001b[0m         \u001b[0margs\u001b[0m\u001b[1;33m.\u001b[0m\u001b[0mupdate\u001b[0m\u001b[1;33m(\u001b[0m\u001b[0mkwargs\u001b[0m\u001b[1;33m)\u001b[0m\u001b[1;33m\u001b[0m\u001b[1;33m\u001b[0m\u001b[0m\n\u001b[0;32m    244\u001b[0m         \u001b[1;32mtry\u001b[0m\u001b[1;33m:\u001b[0m\u001b[1;33m\u001b[0m\u001b[1;33m\u001b[0m\u001b[0m\n\u001b[1;32m--> 245\u001b[1;33m             \u001b[0mself\u001b[0m\u001b[1;33m.\u001b[0m\u001b[0mstan_fit\u001b[0m \u001b[1;33m=\u001b[0m \u001b[0mself\u001b[0m\u001b[1;33m.\u001b[0m\u001b[0mmodel\u001b[0m\u001b[1;33m.\u001b[0m\u001b[0moptimizing\u001b[0m\u001b[1;33m(\u001b[0m\u001b[1;33m**\u001b[0m\u001b[0margs\u001b[0m\u001b[1;33m)\u001b[0m\u001b[1;33m\u001b[0m\u001b[1;33m\u001b[0m\u001b[0m\n\u001b[0m\u001b[0;32m    246\u001b[0m         \u001b[1;32mexcept\u001b[0m \u001b[0mRuntimeError\u001b[0m\u001b[1;33m:\u001b[0m\u001b[1;33m\u001b[0m\u001b[1;33m\u001b[0m\u001b[0m\n\u001b[0;32m    247\u001b[0m             \u001b[1;31m# Fall back on Newton\u001b[0m\u001b[1;33m\u001b[0m\u001b[1;33m\u001b[0m\u001b[1;33m\u001b[0m\u001b[0m\n",
      "\u001b[1;32md:\\Anaconda\\envs\\prophet\\lib\\site-packages\\pystan\\model.py\u001b[0m in \u001b[0;36moptimizing\u001b[1;34m(self, data, seed, init, sample_file, algorithm, verbose, as_vector, **kwargs)\u001b[0m\n\u001b[0;32m    579\u001b[0m         \u001b[0mstan_args\u001b[0m \u001b[1;33m=\u001b[0m \u001b[0mpystan\u001b[0m\u001b[1;33m.\u001b[0m\u001b[0mmisc\u001b[0m\u001b[1;33m.\u001b[0m\u001b[0m_get_valid_stan_args\u001b[0m\u001b[1;33m(\u001b[0m\u001b[0mstan_args\u001b[0m\u001b[1;33m)\u001b[0m\u001b[1;33m\u001b[0m\u001b[1;33m\u001b[0m\u001b[0m\n\u001b[0;32m    580\u001b[0m \u001b[1;33m\u001b[0m\u001b[0m\n\u001b[1;32m--> 581\u001b[1;33m         \u001b[0mret\u001b[0m\u001b[1;33m,\u001b[0m \u001b[0msample\u001b[0m \u001b[1;33m=\u001b[0m \u001b[0mfit\u001b[0m\u001b[1;33m.\u001b[0m\u001b[0m_call_sampler\u001b[0m\u001b[1;33m(\u001b[0m\u001b[0mstan_args\u001b[0m\u001b[1;33m)\u001b[0m\u001b[1;33m\u001b[0m\u001b[1;33m\u001b[0m\u001b[0m\n\u001b[0m\u001b[0;32m    582\u001b[0m         \u001b[0mpars\u001b[0m \u001b[1;33m=\u001b[0m \u001b[0mpystan\u001b[0m\u001b[1;33m.\u001b[0m\u001b[0mmisc\u001b[0m\u001b[1;33m.\u001b[0m\u001b[0m_par_vector2dict\u001b[0m\u001b[1;33m(\u001b[0m\u001b[0msample\u001b[0m\u001b[1;33m[\u001b[0m\u001b[1;34m'par'\u001b[0m\u001b[1;33m]\u001b[0m\u001b[1;33m,\u001b[0m \u001b[0mm_pars\u001b[0m\u001b[1;33m,\u001b[0m \u001b[0mp_dims\u001b[0m\u001b[1;33m)\u001b[0m\u001b[1;33m\u001b[0m\u001b[1;33m\u001b[0m\u001b[0m\n\u001b[0;32m    583\u001b[0m         \u001b[1;32mif\u001b[0m \u001b[1;32mnot\u001b[0m \u001b[0mas_vector\u001b[0m\u001b[1;33m:\u001b[0m\u001b[1;33m\u001b[0m\u001b[1;33m\u001b[0m\u001b[0m\n",
      "\u001b[1;32mstanfit4anon_model_f5236004a3fd5b8429270d00efcc0cf9_7332008770348935536.pyx\u001b[0m in \u001b[0;36mstanfit4anon_model_f5236004a3fd5b8429270d00efcc0cf9_7332008770348935536.StanFit4Model._call_sampler\u001b[1;34m()\u001b[0m\n",
      "\u001b[1;32mstanfit4anon_model_f5236004a3fd5b8429270d00efcc0cf9_7332008770348935536.pyx\u001b[0m in \u001b[0;36mstanfit4anon_model_f5236004a3fd5b8429270d00efcc0cf9_7332008770348935536._call_sampler\u001b[1;34m()\u001b[0m\n",
      "\u001b[1;32mstanfit4anon_model_f5236004a3fd5b8429270d00efcc0cf9_7332008770348935536.pyx\u001b[0m in \u001b[0;36mstanfit4anon_model_f5236004a3fd5b8429270d00efcc0cf9_7332008770348935536._dict_from_stanargs\u001b[1;34m()\u001b[0m\n",
      "\u001b[1;32md:\\Anaconda\\envs\\prophet\\lib\\enum.py\u001b[0m in \u001b[0;36m__call__\u001b[1;34m(cls, value, names, module, qualname, type, start)\u001b[0m\n\u001b[0;32m    313\u001b[0m         \"\"\"\n\u001b[0;32m    314\u001b[0m         \u001b[1;32mif\u001b[0m \u001b[0mnames\u001b[0m \u001b[1;32mis\u001b[0m \u001b[1;32mNone\u001b[0m\u001b[1;33m:\u001b[0m  \u001b[1;31m# simple value lookup\u001b[0m\u001b[1;33m\u001b[0m\u001b[1;33m\u001b[0m\u001b[0m\n\u001b[1;32m--> 315\u001b[1;33m             \u001b[1;32mreturn\u001b[0m \u001b[0mcls\u001b[0m\u001b[1;33m.\u001b[0m\u001b[0m__new__\u001b[0m\u001b[1;33m(\u001b[0m\u001b[0mcls\u001b[0m\u001b[1;33m,\u001b[0m \u001b[0mvalue\u001b[0m\u001b[1;33m)\u001b[0m\u001b[1;33m\u001b[0m\u001b[1;33m\u001b[0m\u001b[0m\n\u001b[0m\u001b[0;32m    316\u001b[0m         \u001b[1;31m# otherwise, functional API: we're creating a new Enum type\u001b[0m\u001b[1;33m\u001b[0m\u001b[1;33m\u001b[0m\u001b[1;33m\u001b[0m\u001b[0m\n\u001b[0;32m    317\u001b[0m         \u001b[1;32mreturn\u001b[0m \u001b[0mcls\u001b[0m\u001b[1;33m.\u001b[0m\u001b[0m_create_\u001b[0m\u001b[1;33m(\u001b[0m\u001b[0mvalue\u001b[0m\u001b[1;33m,\u001b[0m \u001b[0mnames\u001b[0m\u001b[1;33m,\u001b[0m \u001b[0mmodule\u001b[0m\u001b[1;33m=\u001b[0m\u001b[0mmodule\u001b[0m\u001b[1;33m,\u001b[0m \u001b[0mqualname\u001b[0m\u001b[1;33m=\u001b[0m\u001b[0mqualname\u001b[0m\u001b[1;33m,\u001b[0m \u001b[0mtype\u001b[0m\u001b[1;33m=\u001b[0m\u001b[0mtype\u001b[0m\u001b[1;33m,\u001b[0m \u001b[0mstart\u001b[0m\u001b[1;33m=\u001b[0m\u001b[0mstart\u001b[0m\u001b[1;33m)\u001b[0m\u001b[1;33m\u001b[0m\u001b[1;33m\u001b[0m\u001b[0m\n",
      "\u001b[1;31mKeyboardInterrupt\u001b[0m: "
     ]
    }
   ],
   "source": [
    "# 默认有预测数据，从第三步开始\n",
    "d_confirm_path = './data/daily_confirm.csv'\n",
    "d_death_path = './data/daily_death.csv'\n",
    "p_confirm_path = './data/predict_confirm.csv'\n",
    "p_death_path = './data/predict_death.csv'\n",
    "save_path = './data/plot.json'\n",
    "\n",
    "from update import Update\n",
    "update = Update()\n",
    "update.update_json_without_predict(90)"
   ]
  },
  {
   "cell_type": "code",
   "execution_count": 21,
   "metadata": {},
   "outputs": [],
   "source": [
    "import pandas as pd\n",
    "\n",
    "a = pd.DataFrame(\n",
    "    data=['2012-08-29',\n",
    "    '2012-12-31',\n",
    "    '2012-12-31'],columns=['Date']\n",
    ")\n"
   ]
  },
  {
   "cell_type": "code",
   "execution_count": 22,
   "metadata": {},
   "outputs": [
    {
     "data": {
      "text/plain": [
       "0     2012/8/29\n",
       "1    2012/12/31\n",
       "2    2012/12/31\n",
       "Name: Date, dtype: object"
      ]
     },
     "execution_count": 22,
     "metadata": {},
     "output_type": "execute_result"
    }
   ],
   "source": [
    "from datetime import datetime\n",
    "def date_format(date):\n",
    "    year,month,day = date.split('-')\n",
    "    return str(int (year)) + '/' + str(int (month)) + '/' + str(int(day))\n",
    "a['Date'].apply(date_format)"
   ]
  },
  {
   "cell_type": "code",
   "execution_count": null,
   "metadata": {},
   "outputs": [],
   "source": []
  }
 ],
 "metadata": {
  "kernelspec": {
   "display_name": "Python 3.7.13 ('prophet')",
   "language": "python",
   "name": "python3"
  },
  "language_info": {
   "codemirror_mode": {
    "name": "ipython",
    "version": 3
   },
   "file_extension": ".py",
   "mimetype": "text/x-python",
   "name": "python",
   "nbconvert_exporter": "python",
   "pygments_lexer": "ipython3",
   "version": "3.7.13"
  },
  "orig_nbformat": 4,
  "vscode": {
   "interpreter": {
    "hash": "f37e6ed473160d6feeab93fee608e10966c3af6445d9cb2b4b75715d88fe263c"
   }
  }
 },
 "nbformat": 4,
 "nbformat_minor": 2
}
